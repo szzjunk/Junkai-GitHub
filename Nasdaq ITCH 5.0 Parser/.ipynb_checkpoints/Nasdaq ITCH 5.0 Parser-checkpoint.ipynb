{
 "cells": [
  {
   "cell_type": "code",
   "execution_count": 1,
   "metadata": {},
   "outputs": [],
   "source": [
    "import struct\n",
    "import pickle\n",
    "import xlsxwriter"
   ]
  },
  {
   "cell_type": "code",
   "execution_count": 2,
   "metadata": {},
   "outputs": [],
   "source": [
    "tick_count = 0\n",
    "executed_order_count = 0\n",
    "trade_message_count = 0\n",
    "cross_trade_message_count = 0\n",
    "object_list = {}\n",
    "stock_map = {}\n",
    "executing_order_map = {}"
   ]
  },
  {
   "cell_type": "code",
   "execution_count": null,
   "metadata": {},
   "outputs": [],
   "source": []
  },
  {
   "cell_type": "code",
   "execution_count": 3,
   "metadata": {},
   "outputs": [],
   "source": [
    "f = open('D:/01302019.NASDAQ_ITCH50', mode='rb', buffering=-1, encoding=None, newline=None, \n",
    "         closefd=True, opener=None)"
   ]
  },
  {
   "cell_type": "code",
   "execution_count": null,
   "metadata": {},
   "outputs": [],
   "source": [
    "type(f)\n",
    "f.tell() # tell the position of stream\n",
    "f.readable()\n",
    "f.readline()\n",
    "f.writable()\n",
    "f.writelines()\n",
    "f.read(2) # num means the size"
   ]
  },
  {
   "cell_type": "code",
   "execution_count": 4,
   "metadata": {},
   "outputs": [],
   "source": [
    "length_bytes = f.read(2)"
   ]
  },
  {
   "cell_type": "code",
   "execution_count": 16,
   "metadata": {},
   "outputs": [
    {
     "data": {
      "text/plain": [
       "b'\\x00\\x00dNCZ PN 1N\\x00\\x00\\x00\\x00N\\x00\\'R\\x00\\x02\\x00\\x00\\nJM\\x06--AA      N \\x00\\x00\\x00dNCZ PN 1N\\x00\\x00\\x00\\x01N\\x00\\'R\\x00\\x03\\x00\\x00\\nJM\\x07\\x01oAAAU    P \\x00\\x00\\x00dNQI PN 2Y\\x00\\x00\\x00\\x01N\\x00\\'R\\x00\\x04\\x00\\x00\\nJM\\x07\\xb0\\x96AABA    QN\\x00\\x00\\x00dNCQ PNN2N\\x00\\x00\\x00\\x01N\\x00\\'R\\x00\\x05\\x00\\x00\\nJM\\x08\\x85lAAC     N \\x00\\x00\\x00dNCZ PN 2N\\x00\\x00\\x00\\x00N\\x00\\'R\\x00\\x06\\x00\\x00\\nJM\\ta\\x10AADR    P \\x00\\x00\\x00dNQI PN 2Y\\x00\\x00\\x00\\x00N\\x00\\'R\\x00\\x07\\x00\\x00\\nJM\\n\\x1e\\x0cAAL     QN\\x00\\x00\\x00dNCZ PNN1N\\x00\\x00\\x00\\x00N\\x00\\'R\\x00\\x08\\x00\\x00\\nJM\\n\\xb7\\xd6AAMC    A \\x00\\x00\\x00dNCZ PN 2N\\x00\\x00\\x00\\x00N\\x00\\'R\\x00\\t\\x00\\x00\\nJM\\x0bT]AAME    GN\\x00\\x00\\x00dNCZ PNN2N\\x00\\x00\\x00\\x00N\\x00\\'R\\x00\\n\\x00\\x00\\nJM\\x0b\\xee\\xa7AAN     N \\x00\\x00\\x00dNCZ PN 2N\\x00\\x00\\x00\\x00N\\x00\\'R\\x00\\x0b\\x00\\x00\\nJM\\x0c\\x824AAOI    GN\\x00\\x00\\x00dNCZ PNN2N\\x00\\x00\\x00\\x00N\\x00\\'R\\x00\\x0c\\x00\\x00\\nJM\\r\\x14NAAON    QN\\x00\\x00\\x00dNCZ PNN2N\\x00\\x00\\x00\\x00N\\x00\\'R\\x00\\r\\x00\\x00\\nJM\\r\\xa8\\xd5AAP     N \\x00\\x00\\x00dNCZ PN 1N\\x00\\x00\\x00\\x00N\\x00\\'R\\x00\\x0e\\x00\\x00\\nJM\\x0eH\\x17AAPL    QN\\x00\\x00\\x00dNCZ PNN1N\\x00\\x00\\x00\\x00N\\x00\\'R\\x00\\x0f\\x00\\x00\\nJM\\x0e\\xe1\\x95AAT     N \\x00\\x00\\x00dNCRTPN 2N\\x00\\x00\\x00\\x00N\\x00\\'R\\x00\\x10\\x00\\x00\\nJM\\x0fx\\xbeAAU     A \\x00\\x00\\x00dNCZ PN 2N\\x00\\x00\\x00\\x00N\\x00\\'R\\x00\\x11\\x00\\x00\\nJM\\x10\\x0cPAAWW    QN\\x00\\x00\\x00dNCZ PNN2N\\x00\\x00\\x00\\x00N\\x00\\'R\\x00\\x12\\x00\\x00\\nJM\\x10\\x9e\\x8cAAXJ    GN\\x00\\x00\\x00dNQI PNN1Y\\x00\\x00\\x00\\x01N\\x00\\'R\\x00\\x13\\x00\\x00\\nJM\\x111KAAXN    QN\\x00\\x00\\x00dNCZ PNN2N\\x00\\x00\\x00\\x00N\\x00\\'R\\x00\\x14\\x00\\x00\\nJM\\x11\\xc62AB      N \\x00\\x00\\x00dNLZ PN 2N\\x00\\x00\\x00\\x00N\\x00\\'R\\x00\\x15\\x00\\x00\\nJM\\x12XoABB     N \\x00\\x00\\x00dNAZ PN 2N\\x00\\x00\\x00\\x00N\\x00\\'R\\x00\\x16\\x00\\x00\\nJM\\x12\\xf5oABBV    N \\x00\\x00\\x00dNCZ PN 1N\\x00\\x00\\x00\\x00N\\x00\\'R\\x00\\x17\\x00\\x00\\nJM\\x13\\x88\\rABC     N \\x00\\x00\\x00dNCZ PN 1N\\x00\\x00\\x00\\x00N\\x00\\'R\\x00\\x18\\x00\\x00\\nJM\\x14\\x1a\\x1fABCB    QN\\x00\\x00\\x00dNCZ PNN2N\\x00\\x00\\x00\\x00N\\x00\\'R\\x00\\x19\\x00\\x00\\nJM\\x14\\xae\\x1aABDC    QN\\x00\\x00\\x00dNCQ PNN2N\\x00\\x00\\x00\\x00N\\x00\\'R\\x00\\x1a\\x00\\x00\\nJM\\x15K\\xf3ABEO    SN\\x00\\x00\\x00dNCZ PNN2N\\x00\\x00\\x00\\x00N\\x00\\'R\\x00\\x1b\\x00\\x00\\nJM\\x15\\xe3/ABEOW   SN\\x00\\x00\\x00dNWZ PNN N\\x00\\x00\\x00\\x00N\\x00\\'R\\x00\\x1c\\x00\\x00\\nJM\\x16u/ABEV    N \\x00\\x00\\x00dNAZ PN 2N\\x00\\x00\\x00\\x00N\\x00\\'R\\x00\\x1d\\x00\\x00\\nJM\\x17\\x05\\x10ABG     N \\x00\\x00\\x00dNCZ PN 2N\\x00\\x00\\x00\\x00N\\x00\\'R\\x00\\x1e\\x00\\x00\\nJM\\x17\\xa9\\x04ABIL    SD\\x00\\x00\\x00dNOZ PNN2N\\x00\\x00\\x00\\x00N\\x00\\'R\\x00\\x1f\\x00\\x00\\nJM\\x18;nABIO    SD\\x00\\x00\\x00dNCZ PNN2N\\x00\\x00\\x00\\x00N\\x00\\'R\\x00 \\x00\\x00\\nJM\\x18\\xdc\\xc0ABM     N \\x00\\x00\\x00dNCZ PN 2N\\x00\\x00\\x00\\x00N\\x00\\'R\\x00!\\x00\\x00\\nJM\\x19p\\x90ABMD    QN\\x00\\x00\\x00dNCZ PNN1N\\x00\\x00\\x00\\x00N\\x00\\'R\\x00\"\\x00\\x00\\nJM\\x1a\\x03\\xeaABR     N \\x00\\x00\\x00dNCRTPN 2N\\x00\\x00\\x00\\x00N\\x00\\'R\\x00#\\x00\\x00\\nJM\\x1a\\x94\\xd3ABR-A   N \\x00\\x00\\x00dNPZ PN 2N\\x00\\x00\\x00\\x00N\\x00\\'R\\x00$\\x00\\x00\\nJM\\x1b$\\x11ABR-B   N \\x00\\x00\\x00dNPZ PN 2N\\x00\\x00\\x00\\x00N\\x00\\'R\\x00%\\x00\\x00\\nJM\\x1b\\xb6qABR-C   N \\x00\\x00\\x00dNPZ PN 2N\\x00\\x00\\x00\\x00N\\x00\\x19H\\x00\\x01\\x00\\x00\\nJM\\x1c\\xeddA       T     \\x00\\x14Y\\x00\\x01\\x00\\x00\\nJM\\x1e9\\x8cA       0\\x00\\'R\\x00&\\x00\\x00\\nJM\\x1e\\xa9\\xc0ABT     N \\x00\\x00\\x00dNCZ PN 1N\\x00\\x00\\x00\\x00N\\x00\\'R\\x00\\'\\x00\\x00\\nJM\\x1fh+ABTX    GN\\x00\\x00\\x00dNCZ PNN2N\\x00\\x00\\x00\\x00N\\x00\\'R\\x00(\\x00\\x00\\nJM \\x00\\xb6ABUS    QN\\x00\\x00\\x00dNCZ PNN2N\\x00\\x00\\x00\\x00N\\x00\\'R\\x00)\\x00\\x00\\nJM \\xa3\\xdfAC      N \\x00\\x00\\x00dNCZ PN 2N\\x00\\x00\\x00\\x00N\\x00\\'R\\x00*\\x00\\x00\\nJM!W\"ACA     N \\x00\\x00\\x00dNCZ PN 1N\\x00\\x00\\x00\\x01N\\x00\\'R\\x00+\\x00\\x00\\nJM!\\xf8\\rACAD    QN\\x00\\x00\\x00dNCZ PNN2N\\x00\\x00\\x00\\x00N\\x00\\'R\\x00,\\x00\\x00\\nJM\"\\x90\\xd7ACB     N \\x00\\x00\\x00dNCZ PN 2N\\x00\\x00\\x00\\x00N\\x00\\'R\\x00-\\x00\\x00\\nJM#(=ACBI    QN\\x00\\x00\\x00dNCZ PNN2N\\x00\\x00\\x00\\x00N\\x00\\'R\\x00.\\x00\\x00\\nJM#\\xc7|ACC     N \\x00\\x00\\x00dNCRTPN 1N\\x00\\x00\\x00\\x00N\\x00\\'R\\x00/\\x00\\x00\\nJM$`\\xdcACCO    N \\x00\\x00\\x00dNCZ PN 2N\\x00\\x00\\x00\\x00N\\x00\\'R\\x000\\x00\\x00\\nJM$\\xf9YACER    SN\\x00\\x00\\x00dNCZ PNN2N\\x00\\x00\\x00\\x01N\\x00\\'R\\x001\\x00\\x00\\nJM%\\x91\\xcfACES    Z \\x00\\x00\\x00dNQI PN 2Y\\x00\\x00\\x00\\x01N\\x00\\'R\\x002\\x00\\x00\\nJM&(\\xcbACET    QN\\x00\\x00\\x00dNCZ PNN2N\\x00\\x00\\x00\\x00N\\x00\\'R\\x003\\x00\\x00\\nJM&\\xc1\\x99ACGL    QN\\x00\\x00\\x00dNCZ PNN1N\\x00\\x00\\x00\\x00N\\x00\\'R\\x004\\x00\\x00\\nJM\\'Z\\xacACGLO   QN\\x00\\x00\\x00dNPZ PNN2N\\x00\\x00\\x00\\x01N\\x00\\'R\\x005\\x00\\x00\\nJM\\'\\xf2\\x14ACGLP   QN\\x00\\x00\\x00dNPZ PNN2N\\x00\\x00\\x00\\x01N\\x00\\'R\\x006\\x00\\x00\\nJM(\\x88,ACH     N \\x00\\x00\\x00dNAZ PN 2N\\x00\\x00\\x00\\x00N\\x00\\'R\\x007\\x00\\x00\\nJM)\\x1e\\xa8ACHC    QN\\x00\\x00\\x00dNCZ PNN1N\\x00\\x00\\x00\\x00N\\x00\\'R\\x008\\x00\\x00\\nJM)\\xb2\\x01ACHN    QN\\x00\\x00\\x00dNCZ PNN2N\\x00\\x00\\x00\\x00N\\x00\\'R\\x009\\x00\\x00\\nJM*OgACHV    SN\\x00\\x00\\x00dNCZ PNN2N\\x00\\x00\\x00\\x01N\\x00\\'R\\x00:\\x00\\x00\\nJM*\\xec\\x04ACIA    QN\\x00\\x00\\x00dNCZ PNN2N\\x00\\x00\\x00\\x00N\\x00\\'R\\x00;\\x00\\x00\\nJM+\\x960ACIM    P \\x00\\x00\\x00dNQI PN 2Y\\x00\\x00\\x00\\x00N\\x00\\'R\\x00<\\x00\\x00\\nJM,2\\x8aACIU    GN\\x00\\x00\\x00dNCZ PNN2N\\x00\\x00\\x00\\x01N\\x00\\'R\\x00=\\x00\\x00\\nJM,\\xd3\\x9dACIW    QN\\x00\\x00\\x00dNCZ PNN2N\\x00\\x00\\x00\\x00N\\x00\\'R\\x00>\\x00\\x00\\nJM-n\\x02ACLS    QN\\x00\\x00\\x00dNCZ PNN2N\\x00\\x00\\x00\\x00N\\x00\\'R\\x00?\\x00\\x00\\nJM.\\x12\\xc1ACM     N \\x00\\x00\\x00dNCZ PN 1N\\x00\\x00\\x00\\x00N\\x00\\'R\\x00@\\x00\\x00\\nJM.\\xfa\\x82ACMR    GN\\x00\\x00\\x00dNCZ PNN2N\\x00\\x00\\x00\\x01N\\x00\\'R\\x00A\\x00\\x00\\nJM/\\x99\\x88ACN     N \\x00\\x00\\x00dNOZ PN 1N\\x00\\x00\\x00\\x00N\\x00\\'R\\x00B\\x00\\x00\\nJM04\\xa5ACNB    SN\\x00\\x00\\x00dNCZ PNN2N\\x00\\x00\\x00\\x00N\\x00\\'R\\x00C\\x00\\x00\\nJM0\\xcd\\xf5ACOR    QN\\x00\\x00\\x00dNCZ PNN2N\\x00\\x00\\x00\\x00N\\x00\\'R\\x00D\\x00\\x00\\nJM1e\\xfbACP     N \\x00\\x00\\x00dNCQ PN 2N\\x00\\x00\\x00\\x00N\\x00\\'R\\x00E\\x00\\x00\\nJM2\\x10\\x19ACRE    N \\x00\\x00\\x00dNCZ PN 2N\\x00\\x00\\x00\\x00N\\x00\\'R\\x00F\\x00\\x00\\nJM3{\\xa6ACRS    QN\\x00\\x00\\x00dNCZ PNN2N\\x00\\x00\\x00\\x00N\\x00\\'R\\x00G\\x00\\x00\\nJM4\\x17\\x00ACRX    GN\\x00\\x00\\x00dNCZ PNN2N\\x00\\x00\\x00\\x00N\\x00\\'R\\x00H\\x00\\x00\\nJM4\\xackACSG    P \\x00\\x00\\x00dNQI PN 2Y\\x00\\x00\\x00\\x01N\\x00\\'R\\x00I\\x00\\x00\\nJM5GpACSI    Z \\x00\\x00\\x00dNQI PN 2Y\\x00\\x00\\x00\\x01N\\x00\\'R\\x00J\\x00\\x00\\nJM5\\xdcyACST    SN\\x00\\x00\\x00dNCZ PNN2N\\x00\\x00\\x00\\x00N\\x00\\'R\\x00K\\x00\\x00\\nJM6s\\x84ACT     GN\\x00\\x00\\x00dNQI PNN2Y\\x00\\x00\\x00\\x01N\\x00\\'R\\x00L\\x00\\x00\\nJM7\\n\\x02ACTG    QN\\x00\\x00\\x00dNCZ PNN2N\\x00\\x00\\x00\\x00N\\x00\\'R\\x00M\\x00\\x00\\nJM7\\xa7\\x88ACU     A \\x00\\x00\\x00dNCZ PN 2N\\x00\\x00\\x00\\x00N\\x00\\'R\\x00N\\x00\\x00\\nJM8A]ACV     N \\x00\\x00\\x00dNSQ PN 2N\\x00\\x00\\x00\\x00N\\x00\\'R\\x00O\\x00\\x00\\nJM8\\xd6;ACWF    P \\x00\\x00\\x00dNQI PN 2Y\\x00\\x00\\x00\\x01N\\x00\\'R\\x00P\\x00\\x00\\nJM9\\xa0\\xa6ACWI    GN\\x00\\x00\\x00dNQI PNN1Y\\x00\\x00\\x00\\x01N\\x00\\'R\\x00Q\\x00\\x00\\nJM:`\\xa5ACWV    Z \\x00\\x00\\x00dNQI PN 1Y\\x00\\x00\\x00\\x00N\\x00\\'R\\x00R\\x00\\x00\\nJM:\\xff\\x02ACWX    GN\\x00\\x00\\x00dNQI PNN1Y\\x00\\x00\\x00\\x01N\\x00\\'R\\x00S\\x00\\x00\\nJM;\\x95\\xa7ACY     A \\x00\\x00\\x00dNCZ PN 2N\\x00\\x00\\x00\\x00N\\x00\\'R\\x00T\\x00\\x00\\nJM<_\\xa6ADAP    QN\\x00\\x00\\x00dNAZ PNN2N\\x00\\x00\\x00\\x00N\\x00\\'R\\x00U\\x00\\x00\\nJM=\\x17\\x8bADBE    QN\\x00\\x00\\x00dNCZ PNN1N\\x00\\x00\\x00\\x01N\\x00\\'R\\x00V\\x00\\x00\\nJM=\\xcb\\xe7ADC     N \\x00\\x00\\x00dNCRTPN 2N\\x00\\x00\\x00\\x00N\\x00\\'R\\x00W\\x00\\x00\\nJM>~?ADES    GN\\x00\\x00\\x00dNCZ PNN2N\\x00\\x00\\x00\\x01N\\x00\\'R\\x00X\\x00\\x00\\nJM?\\x16\\xdfADI     QN\\x00\\x00\\x00dNCZ PNN1N\\x00\\x00\\x00\\x00N\\x00\\'R\\x00Y\\x00\\x00\\nJM?\\xb6\\x92ADIL    SN\\x00\\x00\\x00dNCZ PNN2N\\x00\\x00\\x00\\x01N\\x00\\'R\\x00Z\\x00\\x00\\nJM@O{ADILW   SN\\x00\\x00\\x00dNWZ PNN N\\x00\\x00\\x00\\x01N\\x00\\'R\\x00[\\x00\\x00\\nJMA\\xe7\\xf3ADM     N \\x00\\x00\\x00dNCZ PN 1N\\x00\\x00\\x00\\x00N\\x00\\'R\\x00\\\\\\x00\\x00\\nJMB\\xa3\\x97ADMA    SN\\x00\\x00\\x00dNCZ PNN2N\\x00\\x00\\x00\\x00N\\x00\\'R\\x00]\\x00\\x00\\nJMCdVADMP    SN\\x00\\x00\\x00dNCZ PNN2N\\x00\\x00\\x00\\x00N\\x00\\'R\\x00^\\x00\\x00\\nJMD\\x16\\xbdADMS    GN\\x00\\x00\\x00dNCZ PNN2N\\x00\\x00\\x00\\x00N\\x00\\'R\\x00_\\x00\\x00\\nJMD\\xb0\\xdbADNT    N \\x00\\x00\\x00dNOZ PN 1N\\x00\\x00\\x00\\x01N\\x00\\'R\\x00`\\x00\\x00\\nJMEl~ADOM    SD\\x00\\x00\\x00dNCZ PNN2N\\x00\\x00\\x00\\x01N\\x00\\'R\\x00a\\x00\\x00\\nJMF\\x03\\xd4ADP     QN\\x00\\x00\\x00dNCZ PNN1N\\x00\\x00\\x00\\x00N\\x00\\'R\\x00b\\x00\\x00\\nJMF\\x997ADRA    GN\\x00\\x00\\x00dNQE PNN2Y\\x00\\x00\\x00\\x01N\\x00\\'R\\x00c\\x00\\x00\\nJMG.<ADRD    GN\\x00\\x00\\x00dNQE PNN2Y\\x00\\x00\\x00\\x01N\\x00\\'R\\x00d\\x00\\x00\\nJMG\\xc57ADRE    GN\\x00\\x00\\x00dNQE PNN2Y\\x00\\x00\\x00\\x01N\\x00\\'R\\x00e\\x00\\x00\\nJMH[\\x1fADRO    QN\\x00\\x00\\x00dNCZ PNN2N\\x00\\x00\\x00\\x00N\\x00\\'R\\x00f\\x00\\x00\\nJMH\\xf2\\x18ADRU    GN\\x00\\x00\\x00dNQE PNN2Y\\x00\\x00\\x00\\x01N\\x00\\'R\\x00g\\x00\\x00\\nJMI\\x87\\x8aADS     N \\x00\\x00\\x00dNCZ PN 1N\\x00\\x00\\x00\\x00N\\x00\\'R\\x00h\\x00\\x00\\nJMJ\\x1d\\x9fADSK    QN\\x00\\x00\\x00dNCZ PNN1N\\x00\\x00\\x00\\x00N\\x00\\'R\\x00i\\x00\\x00\\nJMJ\\xb8\\x07ADSW    N \\x00\\x00\\x00dNCZ PN 2N\\x00\\x00\\x00\\x01N\\x00\\'R\\x00j\\x00\\x00\\nJMK|\\xe1ADT     N \\x00\\x00\\x00dNCZ PN 1N\\x00\\x00\\x00\\x01N\\x00\\'R\\x00k\\x00\\x00\\nJML./ADTN    QN\\x00\\x00\\x00dNCZ PNN2N\\x00\\x00\\x00\\x00N\\x00\\'R\\x00l\\x00\\x00\\nJML\\xd4\\xaeADUS    QN\\x00\\x00\\x00dNCZ PNN2N\\x00\\x00\\x00\\x00N\\x00\\'R\\x00m\\x00\\x00\\nJMMzwADVM    GN\\x00\\x00\\x00dNCZ PNN2N\\x00\\x00\\x00\\x00N\\x00\\'R\\x00n\\x00\\x00\\nJMN\\x0f\\x11ADX     N \\x00\\x00\\x00dNCQ PN 2N\\x00\\x00\\x00\\x00N\\x00\\'R\\x00o\\x00\\x00\\nJMN\\xa6\\xccADXS    QD\\x00\\x00\\x00dNCZ PNN2N\\x00\\x00\\x00\\x00N\\x00\\'R\\x00p\\x00\\x00\\nJMO<\\xabAE      A \\x00\\x00\\x00dNCZ PN 2N\\x00\\x00\\x00\\x00N\\x00\\'R\\x00q\\x00\\x00\\nJMO\\xfcWAEB     N \\x00\\x00\\x00dNQG PN 2N\\x00\\x00\\x00\\x00N\\x00\\'R\\x00r\\x00\\x00\\nJMP\\xb3EAED     N \\x00\\x00\\x00dNQG PN 2N\\x00\\x00\\x00\\x00N\\x00\\'R\\x00s\\x00\\x00\\nJMQL\\x84AEE     N \\x00\\x00\\x00dNCZ PN 1N\\x00\\x00\\x00\\x00N\\x00\\'R\\x00t\\x00\\x00\\nJMQ\\xeexAEF     A \\x00\\x00\\x00dNCQ PN 2N\\x00\\x00\\x00\\x00N\\x00\\'R\\x00u\\x00\\x00\\nJMR\\x86KAEG     N \\x00\\x00\\x00dNAN PN 2N\\x00\\x00\\x00\\x00N\\x00\\'R\\x00v\\x00\\x00\\nJMS\\x1bFAEGN    QN\\x00\\x00\\x00dNCZ PNN2N\\x00\\x00\\x00\\x00N\\x00\\'R\\x00w\\x00\\x00\\nJMS\\xb0(AEH     N \\x00\\x00\\x00dNQG PN 2N\\x00\\x00\\x00\\x00N\\x00\\'R\\x00x\\x00\\x00\\nJMTH\\xc6AEHR    SN\\x00\\x00\\x00dNCZ PNN2N\\x00\\x00\\x00\\x00N\\x00\\'R\\x00y\\x00\\x00\\nJMT\\xe6\\xddAEIS    QN\\x00\\x00\\x00dNCZ PNN2N\\x00\\x00\\x00\\x00N\\x00\\'R\\x00z\\x00\\x00\\nJMU\\x93\\x84AEL     N \\x00\\x00\\x00dNCZ PN 2N\\x00\\x00\\x00\\x00N\\x00\\'R\\x00{\\x00\\x00\\nJMV0\\x8aAEM     N \\x00\\x00\\x00dNCZ PN 2N\\x00\\x00\\x00\\x00N\\x00\\'R\\x00|\\x00\\x00\\nJMV\\xc7ZAEMD    SN\\x00\\x00\\x00dNCZ PNN2N\\x00\\x00\\x00\\x00N\\x00\\'R\\x00}\\x00\\x00\\nJMWe\\xb7AEO     N \\x00\\x00\\x00dNCZ PN 2N\\x00\\x00\\x00\\x00N\\x00\\'R\\x00~\\x00\\x00\\nJMX\\x05\\x96AEP     N \\x00\\x00\\x00dNCZ PN 1N\\x00\\x00\\x00\\x00N\\x00\\'R\\x00\\x7f\\x00\\x00\\nJMX\\xa3\\x8dAER     N \\x00\\x00\\x00dNOZ PN 2N\\x00\\x00\\x00\\x00N\\x00\\'R\\x00\\x80\\x00\\x00\\nJMZkhAERI    GN\\x00\\x00\\x00dNCZ PNN2N\\x00\\x00\\x00\\x00N\\x00\\'R\\x00\\x81\\x00\\x00\\nJM[\\x16\\xa9AES     N \\x00\\x00\\x00dNCZ PN 1N\\x00\\x00\\x00\\x00N\\x00\\'R\\x00\\x82\\x00\\x00\\nJM[\\xac\\xf9AETI    SD\\x00\\x00\\x00dNCZ PNN2N\\x00\\x00\\x00\\x00N\\x00\\'R\\x00\\x83\\x00\\x00\\nJM\\\\f\\x96AEY     GN\\x00\\x00\\x00dNCZ PNN2N\\x00\\x00\\x00\\x00N\\x00\\'R\\x00\\x84\\x00\\x00\\nJM]\\x82zAEYE    SN\\x00\\x00\\x00dNCZ PNN2N\\x00\\x00\\x00\\x01N\\x00\\'R\\x00\\x85\\x00\\x00\\nJM^\\x1e\\xcdAEZS    SN\\x00\\x00\\x00dNCZ PNN2N\\x00\\x00\\x00\\x00N\\x00\\'R\\x00\\x86\\x00\\x00\\nJM^\\xe5\\xcdAFB     N \\x00\\x00\\x00dNCQ PN 2N\\x00\\x00\\x00\\x00N\\x00\\'R\\x00\\x87\\x00\\x00\\nJM_\\x9c\\x1fAFC     N \\x00\\x00\\x00dNQG PN 2N\\x00\\x00\\x00\\x00N\\x00\\'R\\x00\\x88\\x00\\x00\\nJM`/`AFG     N \\x00\\x00\\x00dNCZ PN 1N\\x00\\x00\\x00\\x00N\\x00\\'R\\x00\\x89\\x00\\x00\\nJM`\\xc7\\xd4AFGE    N \\x00\\x00\\x00dNQG PN 2N\\x00\\x00\\x00\\x01N\\x00\\'R\\x00\\x8a\\x00\\x00\\nJMaW1AFGH    N \\x00\\x00\\x00dNQG PN 2N\\x00\\x00\\x00\\x01N\\x00\\'R\\x00\\x8b\\x00\\x00\\nJMa\\xe8LAFH     GN\\x00\\x00\\x00dNOZ PNN2N\\x00\\x00\\x00\\x00N\\x00\\'R\\x00\\x8c\\x00\\x00\\nJMb\\xa7oAFHBL   GN\\x00\\x00\\x00dNQG PNN2N\\x00\\x00\\x00\\x01N\\x00\\'R\\x00\\x8d\\x00\\x00\\nJMc\\\\^AFI     N \\x00\\x00\\x00dNCC PN 2N\\x00\\x00\\x00\\x00N\\x00\\'R\\x00\\x8e\\x00\\x00\\nJMd\\x17UAFIF    Z \\x00\\x00\\x00dNQI PN 2Y\\x00\\x00\\x00\\x01N\\x00\\'R\\x00\\x8f\\x00\\x00\\nJMd\\xd6JAFIN    QN\\x00\\x00\\x00dNCZ PNN2N\\x00\\x00\\x00\\x01N\\x00\\'R\\x00\\x90\\x00\\x00\\nJMey1AFK     P \\x00\\x00\\x00dNQI PN 2Y\\x00\\x00\\x00\\x00N\\x00\\'R\\x00\\x91\\x00\\x00\\nJMf\\x089AFL     N \\x00\\x00\\x00dNCZ PN 1N\\x00\\x00\\x00\\x00N\\x00\\'R\\x00\\x92\\x00\\x00\\nJMf\\x95\\x9eAFMD    GN\\x00\\x00\\x00dNCZ PNN2N\\x00\\x00\\x00\\x00N\\x00\\'R\\x00\\x93\\x00\\x00\\nJMg9\\x07AFSI-A  N \\x00\\x00\\x00dNPZ PN 2N\\x00\\x00\\x00\\x00N\\x00\\'R\\x00\\x94\\x00\\x00\\nJMg\\xd3\\nAFSI-B  N \\x00\\x00\\x00dNPZ PN 2N\\x00\\x00\\x00\\x00N\\x00\\'R\\x00\\x95\\x00\\x00\\nJMhb\\x94AFSI-C  N \\x00\\x00\\x00dNPZ PN 2N\\x00\\x00\\x00\\x00N\\x00\\'R\\x00\\x96\\x00\\x00\\nJMi\\x1d\\x18AFSI-D  N \\x00\\x00\\x00dNPZ PN 2N\\x00\\x00\\x00\\x00N\\x00\\'R\\x00\\x97\\x00\\x00\\nJMi\\xb8mAFSI-E  N \\x00\\x00\\x00dNPZ PN 2N\\x00\\x00\\x00\\x00N\\x00\\'R\\x00\\x98\\x00\\x00\\nJMjH\\xa0AFSI-F  N \\x00\\x00\\x00dNPZ PN 2N\\x00\\x00\\x00\\x01N\\x00\\'R\\x00\\x99\\x00\\x00\\nJMj\\xe0&AFSS    N \\x00\\x00\\x00dNQG PN 2N\\x00\\x00\\x00\\x01N\\x00\\'R\\x00\\x9a\\x00\\x00\\nJMkq\\xa5AFST    N \\x00\\x00\\x00dNQG PN 2N\\x00\\x00\\x00\\x01N\\x00\\'R\\x00\\x9b\\x00\\x00\\nJMl\\x01\\x19AFT     N \\x00\\x00\\x00dNCQ PN 2N\\x00\\x00\\x00\\x00N\\x00\\'R\\x00\\x9c\\x00\\x00\\nJMl\\x92tAFTY    P \\x00\\x00\\x00dNQI PN 2Y\\x00\\x00\\x00\\x01N\\x00\\'R\\x00\\x9d\\x00\\x00\\nJMm\\'\\xc0AG      N \\x00\\x00\\x00dNOZ PN 2N\\x00\\x00\\x00\\x00N\\x00\\'R\\x00\\x9e\\x00\\x00\\nJMm\\xb4sAGCO    N \\x00\\x00\\x00dNCZ PN 1N\\x00\\x00\\x00\\x00N\\x00\\'R\\x00\\x9f\\x00\\x00\\nJMnB\\xaeAGD     N \\x00\\x00\\x00dNSQ PN 2N\\x00\\x00\\x00\\x00N\\x00\\'R\\x00\\xa0\\x00\\x00\\nJMn\\xd1IAGE     A \\x00\\x00\\x00dNCZ PN 2N\\x00\\x00\\x00\\x01N\\x00\\'R\\x00\\xa1\\x00\\x00\\nJMo`\\xb5AGEN    SN\\x00\\x00\\x00dNCZ PNN2N\\x00\\x00\\x00\\x00N\\x00\\'R\\x00\\xa2\\x00\\x00\\nJMo\\xed\\xe6AGF     P \\x00\\x00\\x00dNQB PN 2N\\x00\\x00\\x00\\x00N\\x00\\'R\\x00\\xa3\\x00\\x00\\nJMp\\x84yAGFS    QN\\x00\\x00\\x00dNCZ PNN2N\\x00\\x00\\x00\\x00N\\x00\\'R\\x00\\xa4\\x00\\x00\\nJMq\\x13\\xc9AGFSW   QN\\x00\\x00\\x00dNWZ PNN N\\x00\\x00\\x00\\x00N\\x00\\'R\\x00\\xa5\\x00\\x00\\nJMq\\xc9\\xa4AGG     P \\x00\\x00\\x00dNQI PN 1Y\\x00\\x00\\x00\\x00N\\x00\\'R\\x00\\xa6\\x00\\x00\\nJMrY\\xa2AGGE    P \\x00\\x00\\x00dNQI PN 2Y\\x00\\x00\\x00\\x01N\\x00\\'R\\x00\\xa7\\x00\\x00\\nJMr\\xe8\\x0eAGGP    P \\x00\\x00\\x00dNQI PN 1Y\\x00\\x00\\x00\\x01N\\x00\\'R\\x00\\xa8\\x00\\x00\\nJMsu\\xdcAGGY    P \\x00\\x00\\x00dNQI PN 1Y\\x00\\x00\\x00\\x01N\\x00\\'R\\x00\\xa9\\x00\\x00\\nJMt\\rdAGI     N \\x00\\x00\\x00dNCZ PN 2N\\x00\\x00\\x00\\x00N\\x00\\'R\\x00\\xaa\\x00\\x00\\nJMt\\x9f\\x1aAGIO    QN\\x00\\x00\\x00dNCZ PNN1N\\x00\\x00\\x00\\x00N\\x00\\'R\\x00\\xab\\x00\\x00\\nJMu0\\x96AGLE    GN\\x00\\x00\\x00dNCZ PNN2N\\x00\\x00\\x00\\x00N\\x00\\'R\\x00\\xac\\x00\\x00\\nJMu\\xc0\\x91AGM     N \\x00\\x00\\x00dNCZ PN 2N\\x00\\x00\\x00\\x00N\\x00\\'R\\x00\\xad\\x00\\x00\\nJMvY?AGM-A   N \\x00\\x00\\x00dNPZ PN 2N\\x00\\x00\\x00\\x00N\\x00\\'R\\x00\\xae\\x00\\x00\\nJMw\\x1cNAGM-B   N \\x00\\x00\\x00dNPZ PN 2N\\x00\\x00\\x00\\x00N\\x00\\'R\\x00\\xaf\\x00\\x00\\nJMw\\xdf\\xd2AGM-C   N \\x00\\x00\\x00dNPZ PN 2N\\x00\\x00\\x00\\x00N\\x00\\'R\\x00\\xb0\\x00\\x00\\nJMx\\x8d\\xacAGM.A   N \\x00\\x00\\x00dNCZ PN 2N\\x00\\x00\\x00\\x00N\\x00\\'R\\x00\\xb1\\x00\\x00\\nJMy%\\x81AGMH    SN\\x00\\x00\\x00dNOZ PNN2N\\x00\\x00\\x00\\x01N\\x00\\'R\\x00\\xb2\\x00\\x00\\nJMy\\xb6@AGN     N \\x00\\x00\\x00dNOZ PN 1N\\x00\\x00\\x00\\x00N\\x00\\'R\\x00\\xb3\\x00\\x00\\nJMzH\\xd8AGNC    QN\\x00\\x00\\x00dNCRTPNN1N\\x00\\x00\\x00\\x00N\\x00\\x19H\\x00\\x02\\x00\\x00\\nJMz\\x8fAAA      T     \\x00\\x14Y\\x00\\x02\\x00\\x00\\nJMz\\x9d\\xc9AA      0\\x00\\'R\\x00\\xb4\\x00\\x00\\nJM{,\\xd7AGNCB   QN\\x00\\x00\\x00dNPZ PNN2N\\x00\\x00\\x00\\x00N\\x00\\'R\\x00\\xb5\\x00\\x00\\nJM{\\xe8\\x1fAGNCN   QN\\x00\\x00\\x00dNPZ PNN2N\\x00\\x00\\x00\\x01N\\x00\\'R\\x00\\xb6\\x00\\x00\\nJM|w\\xf4AGND    GN\\x00\\x00\\x00dNQI PNN2Y\\x00\\x00\\x00\\x01N\\x00\\'R\\x00\\xb7\\x00\\x00\\nJM}\\x03\\xf7AGO     N \\x00\\x00\\x00dNCZ PN 1N\\x00\\x00\\x00\\x00N\\x00\\'R\\x00\\xb8\\x00\\x00\\nJM}\\x96.AGO-B   N \\x00\\x00\\x00dNQG PN 2N\\x00\\x00\\x00\\x00N\\x00\\'R\\x00\\xb9\\x00\\x00\\nJM~\\x1f\\xbcAGO-E   N \\x00\\x00\\x00dNQG PN 2N\\x00\\x00\\x00\\x00N\\x00\\'R\\x00\\xba\\x00\\x00\\nJM~\\xaa\\x0eAGO-F   N \\x00\\x00\\x00dNQG PN 2N\\x00\\x00\\x00\\x00N\\x00\\'R\\x00\\xbb\\x00\\x00\\nJM\\x7f1\\nAGQ     P \\x00\\x00\\x00dNQI PN 2Y\\x00\\x00\\x00\\x00N\\x00\\'R\\x00\\xbc\\x00\\x00\\nJM\\x7f\\xc4\\xbdAGR     N \\x00\\x00\\x00dNCZ PN 1N\\x00\\x00\\x00\\x00N\\x00\\'R\\x00\\xbd\\x00\\x00\\nJM\\x80Q\\x15AGRO    N \\x00\\x00\\x00dNCZ PN 2N\\x00\\x00\\x00\\x00N\\x00\\'R\\x00\\xbe\\x00\\x00\\nJM\\x80\\xdb_AGRX    SD\\x00\\x00\\x00dNCZ PNN2N\\x00\\x00\\x00\\x00N\\x00\\'R\\x00\\xbf\\x00\\x00\\nJM\\x81a\\xb6AGS     N \\x00\\x00\\x00dNCZ PN 2N\\x00\\x00\\x00\\x01N\\x00\\'R\\x00\\xc0\\x00\\x00\\nJM\\x82\\x16TAGT     Z \\x00\\x00\\x00dNQI PN 2Y\\x00\\x00\\x00\\x01N\\x00\\'R\\x00\\xc1\\x00\\x00\\nJM\\x82\\xad\\x1cAGTC    GN\\x00\\x00\\x00dNCZ PNN2N\\x00\\x00\\x00\\x00N\\x00\\'R\\x00\\xc2\\x00\\x00\\nJM\\x83FiAGX     N \\x00\\x00\\x00dNCZ PN 2N\\x00\\x00\\x00\\x00N\\x00\\'R\\x00\\xc3\\x00\\x00\\nJM\\x83\\xd8JAGYS    QN\\x00\\x00\\x00dNCZ PNN2N\\x00\\x00\\x00\\x00N\\x00\\'R\\x00\\xc4\\x00\\x00\\nJM\\x84m\\x94AGZ     P \\x00\\x00\\x00dNQI PN 1Y\\x00\\x00\\x00\\x00N\\x00\\'R\\x00\\xc5\\x00\\x00\\nJM\\x85\\'5AGZD    GN\\x00\\x00\\x00dNQI PNN2Y\\x00\\x00\\x00\\x01N\\x00\\'R\\x00\\xc6\\x00\\x00\\nJM\\x85\\xe8\\xd5AHC     N \\x00\\x00\\x00dNCZ PN 2N\\x00\\x00\\x00\\x00N\\x00\\'R\\x00\\xc7\\x00\\x00\\nJM\\x86\\x9c&AHH     N \\x00\\x00\\x00dNCZ PN 2N\\x00\\x00\\x00\\x00N\\x00\\'R\\x00\\xc8\\x00\\x00\\nJM\\x87U\\xfcAHL     N \\x00\\x00\\x00dNOZ PN 1N\\x00\\x00\\x00\\x00N\\x00\\'R\\x00\\xc9\\x00\\x00\\nJM\\x88\\x05NAHL-C   N \\x00\\x00\\x00dNPZ PN 2N\\x00\\x00\\x00\\x00N\\x00\\'R\\x00\\xca\\x00\\x00\\nJM\\x88\\x95OAHL-D   N \\x00\\x00\\x00dNPZ PN 2N\\x00\\x00\\x00\\x01N\\x00\\'R\\x00\\xcb\\x00\\x00\\nJM\\x895\\xd6AHPI    SN\\x00\\x00\\x00dNCZ PNN2N\\x00\\x00\\x00\\x00N\\x00\\'R\\x00\\xcc\\x00\\x00\\nJM\\x89\\xd0IAHT     N \\x00\\x00\\x00dNCRTPN 2N\\x00\\x00\\x00\\x00N\\x00\\'R\\x00\\xcd\\x00\\x00\\nJM\\x8a\\x8ceAHT-D   N \\x00\\x00\\x00dNPZ PN 2N\\x00\\x00\\x00\\x00N\\x00\\'R\\x00\\xce\\x00\\x00\\nJM\\x8bG.AHT-F   N \\x00\\x00\\x00dNPZ PN 2N\\x00\\x00\\x00\\x01N\\x00\\'R\\x00\\xcf\\x00\\x00\\nJM\\x8b\\xda1AHT-G   N \\x00\\x00\\x00dNPZ PN 2N\\x00\\x00\\x00\\x01N\\x00\\'R\\x00\\xd0\\x00\\x00\\nJM\\x8cc\\x0bAHT-H   N \\x00\\x00\\x00dNPZ PN 2N\\x00\\x00\\x00\\x01N\\x00\\'R\\x00\\xd1\\x00\\x00\\nJM\\x8c\\xf1\\x18AHT-I   N \\x00\\x00\\x00dNPZ PN 2N\\x00\\x00\\x00\\x00N\\x00\\'R\\x00\\xd2\\x00\\x00\\nJM\\x8dy\\xa9AI      N \\x00\\x00\\x00dNCRTPN 2N\\x00\\x00\\x00\\x00N\\x00\\'R\\x00\\xd3\\x00\\x00\\nJM\\x8e\\x00\\xb9AI-B    N \\x00\\x00\\x00dNPZ PN 2N\\x00\\x00\\x00\\x01N\\x00\\'R\\x00\\xd4\\x00\\x00\\nJM\\x8e\\x85\\xecAIA     GN\\x00\\x00\\x00dNQI PNN1Y\\x00\\x00\\x00\\x01N\\x00\\'R\\x00\\xd5\\x00\\x00\\nJM\\x8f\\x07\\xd0AIC     N \\x00\\x00\\x00dNQG PN 2N\\x00\\x00\\x00\\x01N\\x00\\'R\\x00\\xd6\\x00\\x00\\nJM\\x8f\\xa7.AIEQ    P \\x00\\x00\\x00dNQI PN 1Y\\x00\\x00\\x00\\x01N\\x00\\'R\\x00\\xd7\\x00\\x00\\nJM\\x907+AIF     N \\x00\\x00\\x00dNCQ PN 2N\\x00\\x00\\x00\\x00N\\x00\\'R\\x00\\xd8\\x00\\x00\\nJM\\x90\\xcc\\x08AIG     N \\x00\\x00\\x00dNCZ PN 1N\\x00\\x00\\x00\\x00N\\x00\\'R\\x00\\xd9\\x00\\x00\\nJM\\x91R?AIG+    N \\x00\\x00\\x00dNWZ PN  N\\x00\\x00\\x00\\x01N\\x00\\'R\\x00\\xda\\x00\\x00\\nJM\\x91\\xd9RAIHS    SN\\x00\\x00\\x00dNCZ PNN2N\\x00\\x00\\x00\\x01N\\x00\\'R\\x00\\xdb\\x00\\x00\\nJM\\x92_\\xc0AIIQ    P \\x00\\x00\\x00dNQI PN 2Y\\x00\\x00\\x00\\x01N\\x00\\'R\\x00\\xdc\\x00\\x00\\nJM\\x93\\nFAIMC    QN\\x00\\x00\\x00dNCZ PNN2N\\x00\\x00\\x00\\x00N\\x00\\'R\\x00\\xdd\\x00\\x00\\nJM\\x93\\xa37AIMT    QN\\x00\\x00\\x00dNCZ PNN2N\\x00\\x00\\x00\\x00N\\x00\\'R\\x00\\xde\\x00\\x00\\nJM\\x94\\'\\rAIN     N \\x00\\x00\\x00dNCZ PN 2N\\x00\\x00\\x00\\x00N\\x00\\'R\\x00\\xdf\\x00\\x00\\nJM\\x94\\xae\\x8fAINC    A \\x00\\x00\\x00dNCRTPN 2N\\x00\\x00\\x00\\x00N\\x00\\'R\\x00\\xe0\\x00\\x00\\nJM\\x9522AINV    QN\\x00\\x00\\x00dNCQ PNN2N\\x00\\x00\\x00\\x00N\\x00\\'R\\x00\\xe1\\x00\\x00\\nJM\\x95\\xb7\\x8bAIPT    SD\\x00\\x00\\x00dNCZ PNN2N\\x00\\x00\\x00\\x00N\\x00\\'R\\x00\\xe2\\x00\\x00\\nJM\\x96;\\x1fAIQ     GN\\x00\\x00\\x00dNQI PNN2Y\\x00\\x00\\x00\\x01N\\x00\\'R\\x00\\xe3\\x00\\x00\\nJM\\x96\\xcb\\xe4AIR     N \\x00\\x00\\x00dNCZ PN 2N\\x00\\x00\\x00\\x00N\\x00\\'R\\x00\\xe4\\x00\\x00\\nJM\\x97P\\x02AIRG    SN\\x00\\x00\\x00dNCZ PNN2N\\x00\\x00\\x00\\x01N\\x00\\'R\\x00\\xe5\\x00\\x00\\nJM\\x97\\xd4`AIRI    A \\x00\\x00\\x00dNCZ PN 2N\\x00\\x00\\x00\\x00N\\x00\\'R\\x00\\xe6\\x00\\x00\\nJM\\x98`#AIRR    GN\\x00\\x00\\x00dNQI PNN2Y\\x00\\x00\\x00\\x01N\\x00\\'R\\x00\\xe7\\x00\\x00\\nJM\\x98\\xe4\\x0fAIRT    SN\\x00\\x00\\x00dNCZ PNN2N\\x00\\x00\\x00\\x00N\\x00\\'R\\x00\\xe8\\x00\\x00\\nJM\\x99\\x7f@AIT     N \\x00\\x00\\x00dNCZ PN 2N\\x00\\x00\\x00\\x00N\\x00\\'R\\x00\\xe9\\x00\\x00\\nJM\\x9a\\x12\\xc3AIV     N \\x00\\x00\\x00dNCRTPN 1N\\x00\\x00\\x00\\x00N\\x00\\'R\\x00\\xea\\x00\\x00\\nJM\\x9a\\x9fdAIV-A   N \\x00\\x00\\x00dNPZ PN 2N\\x00\\x00\\x00\\x00N\\x00\\'R\\x00\\xeb\\x00\\x00\\nJM\\x9b\\'\\x93AIW     N \\x00\\x00\\x00dNQG PN 2N\\x00\\x00\\x00\\x00N\\x00\\'R\\x00\\xec\\x00\\x00\\nJM\\x9b\\xb0\\xfaAIY     N \\x00\\x00\\x00dNQG PN 2N\\x00\\x00\\x00\\x00N\\x00\\'R\\x00\\xed\\x00\\x00\\nJM\\x9c6\\x1aAIZ     N \\x00\\x00\\x00dNCZ PN 1N\\x00\\x00\\x00\\x00N\\x00\\'R\\x00\\xee\\x00\\x00\\nJM\\x9c\\xc8}AIZP    N \\x00\\x00\\x00dNPZ PN 2N\\x00\\x00\\x00\\x00N\\x00\\'R\\x00\\xef\\x00\\x00\\nJM\\x9dV\\xe6AJG     N \\x00\\x00\\x00dNCZ PN 1N\\x00\\x00\\x00\\x00N\\x00\\'R\\x00\\xf0\\x00\\x00\\nJM\\x9d\\xdajAJRD    N \\x00\\x00\\x00dNCZ PN 2N\\x00\\x00\\x00\\x00N\\x00\\'R\\x00\\xf1\\x00\\x00\\nJM\\x9e`\\x8fAJX     N \\x00\\x00\\x00dNCZ PN 2N\\x00\\x00\\x00\\x00N\\x00\\'R\\x00\\xf2\\x00\\x00\\nJM\\x9e\\xe3\\x91AJXA    N \\x00\\x00\\x00dNQG PN 2N\\x00\\x00\\x00\\x01N\\x00\\'R\\x00'"
      ]
     },
     "execution_count": 16,
     "metadata": {},
     "output_type": "execute_result"
    }
   ],
   "source": [
    "f.read(10000)"
   ]
  },
  {
   "cell_type": "code",
   "execution_count": 10,
   "metadata": {},
   "outputs": [],
   "source": [
    "packet_length=struct.unpack('!H', length_bytes)[0]"
   ]
  },
  {
   "cell_type": "code",
   "execution_count": 15,
   "metadata": {},
   "outputs": [
    {
     "ename": "NameError",
     "evalue": "name 'binascii' is not defined",
     "output_type": "error",
     "traceback": [
      "\u001b[1;31m---------------------------------------------------------------------------\u001b[0m",
      "\u001b[1;31mNameError\u001b[0m                                 Traceback (most recent call last)",
      "\u001b[1;32m<ipython-input-15-6f04603a1a61>\u001b[0m in \u001b[0;36m<module>\u001b[1;34m()\u001b[0m\n\u001b[0;32m      1\u001b[0m \u001b[0mpacket_payload\u001b[0m \u001b[1;33m=\u001b[0m \u001b[0mf\u001b[0m\u001b[1;33m.\u001b[0m\u001b[0mread\u001b[0m\u001b[1;33m(\u001b[0m\u001b[0mpacket_length\u001b[0m\u001b[1;33m)\u001b[0m\u001b[1;33m\u001b[0m\u001b[0m\n\u001b[0;32m      2\u001b[0m \u001b[0mpacket_payload\u001b[0m\u001b[1;33m\u001b[0m\u001b[0m\n\u001b[1;32m----> 3\u001b[1;33m \u001b[0mbinascii\u001b[0m\u001b[1;33m.\u001b[0m\u001b[0mb2a_uu\u001b[0m\u001b[1;33m(\u001b[0m\u001b[1;34m'!H'\u001b[0m\u001b[1;33m,\u001b[0m \u001b[0mpacket_payload\u001b[0m\u001b[1;33m)\u001b[0m\u001b[1;33m\u001b[0m\u001b[0m\n\u001b[0m",
      "\u001b[1;31mNameError\u001b[0m: name 'binascii' is not defined"
     ]
    }
   ],
   "source": [
    "packet_payload = f.read(packet_length)\n",
    "packet_payload\n",
    "binascii.b2a_uu('!H', packet_payload)"
   ]
  },
  {
   "cell_type": "code",
   "execution_count": 13,
   "metadata": {},
   "outputs": [
    {
     "name": "stdout",
     "output_type": "stream",
     "text": [
      "None\n"
     ]
    }
   ],
   "source": [
    "print(unpack_message(packet_payload, packet_payload[0]))"
   ]
  },
  {
   "cell_type": "code",
   "execution_count": null,
   "metadata": {},
   "outputs": [],
   "source": [
    "f.read(1000)"
   ]
  },
  {
   "cell_type": "code",
   "execution_count": null,
   "metadata": {},
   "outputs": [],
   "source": [
    "while(True):\t\n",
    "\tlength_bytes = f.read(2)\n",
    "\tif not length_bytes:\n",
    "\t\tbreak\n",
    "\tpacket_length = struct.unpack('!H', length_bytes)[0]\n",
    "\tpacket_payload = f.read(packet_length)\n",
    "\tif not packet_payload:\n",
    "\t\tbreak\n",
    "\ttick_count+= 1\t\n",
    "\tunpack_message(packet_payload, packet_payload[0])"
   ]
  },
  {
   "cell_type": "code",
   "execution_count": 8,
   "metadata": {},
   "outputs": [],
   "source": [
    "def add_order_message(message):\n",
    "\tglobal object_list\n",
    "\n",
    "\tif message[19:20] == 'B':#if buy order\n",
    "\t\torder_ref_no = struct.unpack(\"!Q\", message[11:19])[0]\n",
    "\t\tstock_name = message[24:32].strip()\n",
    "\t\tstock_price = (struct.unpack(\"!I\", message[32:36])[0]) / 10000.00 #to get the four decimal places\n",
    "\t\t#adding order to dictionary for tracking stock name in executed orders\n",
    "\t\tobject_list[order_ref_no] = (stock_name, stock_price)\n",
    "\treturn\n",
    "\n",
    "def replace_order_message(message):\n",
    "\tglobal object_list\n",
    "\told_order_ref_number = struct.unpack(\"!Q\", message[11:19])[0]\n",
    "\tnew_order_ref_number = struct.unpack(\"!Q\", message[19:27])[0]\n",
    "\ttry:\n",
    "\t\t(stock_name, stock_price) = object_list.pop(old_order_ref_number)\n",
    "\t\tobject_list[new_order_ref_number] = (stock_name, stock_price)\n",
    "\texcept KeyError as e:\n",
    "\t\treturn\n",
    "\treturn\n",
    "\n",
    "def delete_order_message(message):\n",
    "\tglobal object_list\n",
    "\torder_ref_no = struct.unpack(\"!Q\", message[11:19])[0]\n",
    "\ttry:\n",
    "\t\tobject_list.pop(order_ref_no)\n",
    "\texcept KeyError as e:\n",
    "\t\treturn\t\t\n",
    "\n",
    "def executed_price_order_message(message):\n",
    "\tglobal executed_order_count\n",
    "\tglobal stock_map\n",
    "\tglobal object_list\n",
    "\tglobal executing_order_map\n",
    "\n",
    "\tmType = 'C'\n",
    "\t##check printable order or not\n",
    "\tif message[31:32] == 'Y':\t\n",
    "\t\torder_ref_no = struct.unpack(\"!Q\", message[11:19])[0]\n",
    "\t\tstock_price = (struct.unpack(\"!I\", message[32:36])[0]) / 10000.00\t\t\n",
    "\t\tshare_volume = struct.unpack(\"!I\", message[19:23])[0]\n",
    "\t\tmatch_number = struct.unpack(\"!Q\", message[23:31])[0]\n",
    "\t\ttry:\n",
    "\t\t\t(stock_name, stock_price_old) = object_list[order_ref_no]\n",
    "\t\t\tif stock_name not in stock_map:\n",
    "\t\t\t\tstock_map[stock_name] = [(mType, order_ref_no, stock_price, share_volume)]\t\t\t\n",
    "\t\t\telse:\n",
    "\t\t\t\tstock_list = stock_map[stock_name]\t\t\t\t\t\t\t\t\n",
    "\t\t\t\tstock_list.append((mType, order_ref_no, stock_price, share_volume))\n",
    "\t\t\t\tstock_map[stock_name] = stock_list\n",
    "\t\t\t#add order to executed order map\n",
    "\t\t\texecuting_order_map[match_number] = (mType, order_ref_no, stock_name)\n",
    "\t\t\texecuted_order_count+=1\t\t\n",
    "\t\texcept KeyError as e:\n",
    "\t\t\t# print \"Order number: \" . str(order_ref_no)\n",
    "\t\t\t# raw_input(\"Did not find key in object list. Press Enter to continue...\")\n",
    "\t\t\treturn\n",
    "\n",
    "def executed_order_message(message):\n",
    "\tglobal executed_order_count\n",
    "\tglobal stock_map\n",
    "\tglobal object_list\n",
    "\tglobal executing_order_map\n",
    "\n",
    "\tmType = 'E'\n",
    "\torder_ref_no = struct.unpack(\"!Q\", message[11:19])[0]\n",
    "\tstock_price = 0\n",
    "\tshare_volume = struct.unpack(\"!I\", message[19:23])[0]\n",
    "\tmatch_number = struct.unpack(\"!Q\", message[23:31])[0]\n",
    "\ttry:\n",
    "\t\t(stock_name, stock_price) = object_list[order_ref_no]\n",
    "\t\tif stock_name not in stock_map:\n",
    "\t\t\tstock_map[stock_name] = [(mType, order_ref_no, stock_price, share_volume)]\n",
    "\t\telse:\n",
    "\t\t\tstock_list = stock_map[stock_name]\t\t\t\n",
    "\t\t\tstock_list.append((mType, order_ref_no, stock_price, share_volume))\n",
    "\t\t\tstock_map[stock_name] = stock_list\n",
    "\t\t#add order to executed order map\n",
    "\t\texecuting_order_map[match_number] = (mType, order_ref_no, stock_name)\n",
    "\t\texecuted_order_count+=1\n",
    "\texcept KeyError as e:\n",
    "\t\t# print \"Order number: \" . str(order_ref_no)\n",
    "\t\t# raw_input(\"Did not find key in object list. Press Enter to continue...\")\n",
    "\t\treturn\t\n",
    "\n",
    "def trade_message(message):\n",
    "\tglobal trade_message_count\n",
    "\tglobal stock_map\n",
    "\tglobal object_list\n",
    "\tglobal executing_order_map\n",
    "\n",
    "\tmType = 'P'\n",
    "\ttrade_message_count+=1\n",
    "\tstock_price = (struct.unpack(\"!I\", message[32:36])[0]) / 10000.00\n",
    "\tshare_volume = struct.unpack(\"!I\", message[20:24])[0]\n",
    "\tmatch_number = struct.unpack(\"!Q\", message[23:31])[0]\n",
    "\tstock_name = message[24:32]\t\n",
    "\tif stock_name not in stock_map:\n",
    "\t\tstock_map[stock_name] = [(mType, match_number, stock_price, share_volume)]\n",
    "\telse:\n",
    "\t\tstock_list = stock_map[stock_name]\t\t\n",
    "\t\tstock_list.append((mType, match_number, stock_price, share_volume))\n",
    "\t\tstock_map[stock_name] = stock_list\n",
    "\t#add order to executed order map\n",
    "\texecuting_order_map[match_number] = (mType, match_number, stock_name)\n",
    "\n",
    "def cross_trade_message(message):\n",
    "\tglobal cross_trade_message_count\n",
    "\tglobal stock_map\n",
    "\tglobal object_list\n",
    "\tglobal executing_order_map\n",
    "\t\n",
    "\tmType = 'Q'\n",
    "\tstock_price = (struct.unpack(\"!I\", message[27:31])[0]) / 10000.00\n",
    "\tshare_volume = struct.unpack(\"!Q\", message[11:19])[0]\t\n",
    "\tmatch_number = struct.unpack(\"!Q\", message[31:39])[0]\n",
    "\tstock_name = message[19:27]\n",
    "\tif share_volume == 0:\n",
    "\t\treturn\t\n",
    "\telif stock_name not in stock_map:\n",
    "\t\tstock_map[stock_name] = [(mType, match_number, stock_price, share_volume)]\n",
    "\telse:\n",
    "\t\tstock_list = stock_map[stock_name]\t\t\n",
    "\t\tstock_list.append((mType, match_number, stock_price, share_volume))\n",
    "\t\tstock_map[stock_name] = stock_list\n",
    "\t#add order to executed order map\n",
    "\texecuting_order_map[match_number] = (mType, match_number, stock_name)\n",
    "\tcross_trade_message_count+=1\n",
    "\n",
    "def broken_trade_message(message):\n",
    "\tglobal stock_map\n",
    "\tglobal object_list\n",
    "\tglobal executing_order_map\n",
    "\n",
    "\tmatch_number = struct.unpack(\"!Q\", message[11:19])[0]\n",
    "\ttry:\n",
    "\t\t(mType, order_ref_no, stock_name) = executing_order_map.pop(match_number)\t\t\n",
    "\t\tif stock_name in stock_map:\t\t\n",
    "\t\t\tstock_list = stock_map[stock_name]\n",
    "\t\t\tfor index, item in enumerate(stock_list):\n",
    "\t\t\t\tif item[1] == order_ref_no and mType == item[0]:\n",
    "\t\t\t\t\tdel stock_list[index]\n",
    "\t\t\t\t\tbreak\n",
    "\t\t\tstock_map[stock_name] = stock_list\n",
    "\texcept KeyError as e:\t\t\n",
    "\t\treturn\t\t\n",
    "\n",
    "\n",
    "def unpack_message(message, mType):\t\n",
    "\tif mType == 'A' or mType == 'F':\t\t\n",
    "\t\tadd_order_message(message)\t\t\n",
    "\telif mType == 'U':\t\t\n",
    "\t\treplace_order_message(message)\n",
    "\telif mType == 'D':\t\t\n",
    "\t\tdelete_order_message(message)\n",
    "\telif mType == 'C':\t\t\n",
    "\t\texecuted_price_order_message(message)\t\t\n",
    "\telif mType == 'E':\t\t\n",
    "\t\texecuted_order_message(message)\n",
    "\telif mType == 'P':\t\t\n",
    "\t\ttrade_message(message)\t\t\n",
    "\telif mType == 'Q':\t\t\n",
    "\t\tcross_trade_message(message)\t\t\n",
    "\telif mType == 'B':\t\t\n",
    "\t\tbroken_trade_message(message)\n",
    "\telse:\n",
    "\t\treturn"
   ]
  },
  {
   "cell_type": "code",
   "execution_count": null,
   "metadata": {},
   "outputs": [],
   "source": [
    "while(True):\t\n",
    "\tlength_bytes = f.read(2)\n",
    "\tif not length_bytes:\n",
    "\t\tbreak\n",
    "\tpacket_length = struct.unpack('!H', length_bytes)[0]\n",
    "\tpacket_payload = f.read(packet_length)\n",
    "\tif not packet_payload:\n",
    "\t\tbreak\n",
    "\ttick_count+= 1\t\n",
    "\tunpack_message(packet_payload, packet_payload[0])"
   ]
  },
  {
   "cell_type": "code",
   "execution_count": null,
   "metadata": {},
   "outputs": [],
   "source": [
    "print(\"Writing data to files......\")\n",
    "\n",
    "output_file = open('output_file.txt', 'a')\n",
    "output_file.write(\"Total number of ticks: \" + str(tick_count))\n",
    "output_file.write(\"Total number of executed orders: \" + str(executed_order_count))\n",
    "output_file.write(\"Total number of trade messages: \" + str(trade_message_count))\n",
    "output_file.write(\"Total number of cross trade message: \" + str(cross_trade_message_count))\n",
    "output_file.close()\n",
    "\n",
    "pickle.dump(stock_map, open(\"stock_dictionary.d\", \"wb\"))\n",
    "\n",
    "del executing_order_map\n",
    "del object_list"
   ]
  },
  {
   "cell_type": "code",
   "execution_count": null,
   "metadata": {},
   "outputs": [],
   "source": [
    "for key, value in stock_map.items():\n",
    "    \n",
    "    workbook = xlsxwriter.Workbook(key + \".xlsx\")\n",
    "\tworksheet = workbook.add_worksheet()\n",
    "\tcumulative_volume = 0\n",
    "\tcumulative_volume_price = 0\n",
    "\tworksheet.write('A1', \"Price\")\n",
    "\tworksheet.write('B1', \"Volume\")\n",
    "\tworksheet.write('C1', \"Cumulative Volume\")\n",
    "\tworksheet.write('D1', \"Cumulative Volume * Price\")\n",
    "\tworksheet.write('E1', \"VWAP\")\n",
    "    \n",
    "\tfor index, item in enumerate(value):\n",
    "\t\tworksheet.write(\"A\"+str(index+2), item[2])\n",
    "\t\tworksheet.write(\"B\"+str(index+2), item[3])\n",
    "\t\tcumulative_volume+=item[3]\n",
    "\t\tcumulative_volume_price+= item[2] * item[3]\n",
    "\t\tworksheet.write(\"C\"+str(index+2), cumulative_volume)\n",
    "\t\tworksheet.write(\"D\"+str(index+2), cumulative_volume_price)\n",
    "\t\tworksheet.write(\"E\"+str(index+2), cumulative_volume_price / (cumulative_volume * 1.00))\n",
    "workbook.close()"
   ]
  },
  {
   "cell_type": "code",
   "execution_count": null,
   "metadata": {},
   "outputs": [],
   "source": [
    "import os\n",
    "os.getcwd()"
   ]
  },
  {
   "cell_type": "code",
   "execution_count": null,
   "metadata": {},
   "outputs": [],
   "source": [
    "stock_map.items()"
   ]
  },
  {
   "cell_type": "code",
   "execution_count": null,
   "metadata": {},
   "outputs": [],
   "source": []
  }
 ],
 "metadata": {
  "kernelspec": {
   "display_name": "Python 3",
   "language": "python",
   "name": "python3"
  },
  "language_info": {
   "codemirror_mode": {
    "name": "ipython",
    "version": 3
   },
   "file_extension": ".py",
   "mimetype": "text/x-python",
   "name": "python",
   "nbconvert_exporter": "python",
   "pygments_lexer": "ipython3",
   "version": "3.6.5"
  }
 },
 "nbformat": 4,
 "nbformat_minor": 2
}
