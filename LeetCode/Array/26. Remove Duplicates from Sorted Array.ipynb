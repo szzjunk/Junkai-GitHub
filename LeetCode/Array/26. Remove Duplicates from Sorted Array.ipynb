{
 "cells": [
  {
   "cell_type": "markdown",
   "metadata": {},
   "source": [
    "https://leetcode.com/problems/remove-duplicates-from-sorted-array/"
   ]
  },
  {
   "cell_type": "code",
   "execution_count": 3,
   "metadata": {},
   "outputs": [],
   "source": [
    "nums = [0,0,1,1,1,2,2,3,3,4,50]"
   ]
  },
  {
   "cell_type": "code",
   "execution_count": 25,
   "metadata": {},
   "outputs": [],
   "source": [
    "def removeDuplicates(nums):\n",
    "    import numpy as np\n",
    "    num_1 = nums[0]\n",
    "    output_list = [num_1]\n",
    "    diff_list = [int(x) for x in np.diff(nums)]\n",
    "    for j in range(0, len(diff_list)):\n",
    "        i = diff_list[j]\n",
    "        if i != 0:\n",
    "            num_1 = num_1 + i\n",
    "            output_list.append(num_1)\n",
    "    return output_list"
   ]
  },
  {
   "cell_type": "code",
   "execution_count": 7,
   "metadata": {},
   "outputs": [
    {
     "data": {
      "text/plain": [
       "10"
      ]
     },
     "execution_count": 7,
     "metadata": {},
     "output_type": "execute_result"
    }
   ],
   "source": [
    "removeDuplicates(nums)"
   ]
  },
  {
   "cell_type": "code",
   "execution_count": 8,
   "metadata": {},
   "outputs": [],
   "source": [
    "def removeDuplicates(nums):\n",
    "        if not nums:\n",
    "            return 0\n",
    "\n",
    "        newTail = 0\n",
    "\n",
    "        for i in range(1, len(nums)):\n",
    "            if nums[i] != nums[newTail]:\n",
    "                newTail += 1\n",
    "                nums[newTail] = nums[i]\n",
    "\n",
    "        return newTail + 1"
   ]
  },
  {
   "cell_type": "code",
   "execution_count": null,
   "metadata": {},
   "outputs": [],
   "source": []
  }
 ],
 "metadata": {
  "kernelspec": {
   "display_name": "Python 3",
   "language": "python",
   "name": "python3"
  },
  "language_info": {
   "codemirror_mode": {
    "name": "ipython",
    "version": 3
   },
   "file_extension": ".py",
   "mimetype": "text/x-python",
   "name": "python",
   "nbconvert_exporter": "python",
   "pygments_lexer": "ipython3",
   "version": "3.6.5"
  }
 },
 "nbformat": 4,
 "nbformat_minor": 2
}
