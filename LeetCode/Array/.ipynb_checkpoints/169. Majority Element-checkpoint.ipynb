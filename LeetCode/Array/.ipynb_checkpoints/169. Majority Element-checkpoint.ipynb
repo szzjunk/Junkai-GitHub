{
 "cells": [
  {
   "cell_type": "markdown",
   "metadata": {},
   "source": [
    "https://leetcode.com/problems/majority-element/"
   ]
  },
  {
   "cell_type": "code",
   "execution_count": 56,
   "metadata": {},
   "outputs": [],
   "source": [
    "# too long\n",
    "def majorityElement(nums):\n",
    "    for i in range(len(nums)):\n",
    "        num = nums[i]\n",
    "        diff_list=[x-num for x in nums]\n",
    "        num_of_same = diff_list.count(0)\n",
    "        if num_of_same > (len(nums)/2):\n",
    "            return num\n",
    "            break"
   ]
  },
  {
   "cell_type": "code",
   "execution_count": 60,
   "metadata": {},
   "outputs": [],
   "source": [
    "# find the unique by using set(), then using .count to find\n",
    "def majorityElement(nums):\n",
    "    nums_uni = set(nums)\n",
    "    for i in nums_uni:\n",
    "        if nums.count(i) > (len(nums)/2):\n",
    "            return i\n",
    "            break"
   ]
  },
  {
   "cell_type": "code",
   "execution_count": 61,
   "metadata": {},
   "outputs": [
    {
     "data": {
      "text/plain": [
       "2"
      ]
     },
     "execution_count": 61,
     "metadata": {},
     "output_type": "execute_result"
    }
   ],
   "source": [
    "nums = [2,2,1,1,1,2,2]\n",
    "majorityElement(nums)"
   ]
  }
 ],
 "metadata": {
  "kernelspec": {
   "display_name": "Python 3",
   "language": "python",
   "name": "python3"
  },
  "language_info": {
   "codemirror_mode": {
    "name": "ipython",
    "version": 3
   },
   "file_extension": ".py",
   "mimetype": "text/x-python",
   "name": "python",
   "nbconvert_exporter": "python",
   "pygments_lexer": "ipython3",
   "version": "3.6.5"
  }
 },
 "nbformat": 4,
 "nbformat_minor": 2
}
