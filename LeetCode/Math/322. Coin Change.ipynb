{
 "cells": [
  {
   "cell_type": "markdown",
   "metadata": {},
   "source": [
    "https://leetcode.com/problems/coin-change/"
   ]
  },
  {
   "cell_type": "code",
   "execution_count": 101,
   "metadata": {},
   "outputs": [],
   "source": [
    "def coinChange(coins, amount):\n",
    "    inf=float('inf')\n",
    "    dp=[inf]*(amount+1)\n",
    "    dp[0]=0 # for amount 0, cannot use coins to achieve the amount\n",
    "    for i in range(1,amount+1): # iterate for the sub problem, i represents the amount\n",
    "        for j in coins:\n",
    "            if i>=j:#(i>j and dp[i-j]!=0) or (i==j and dp[i-j]==0):\n",
    "                dp[i]=min(dp[i],dp[i-j]+1) # if i choose coin j, i could use the amount minus the j to use previous best combination of coins\n",
    "            else:\n",
    "                dp[i]=min(dp[i],inf) # coin is large than amount, cannot handle \n",
    "    return [dp[amount],-1][dp[amount]==inf]"
   ]
  },
  {
   "cell_type": "code",
   "execution_count": 94,
   "metadata": {},
   "outputs": [],
   "source": [
    "def coinChange1(coins, amount):\n",
    "    MAX = float('inf')\n",
    "    dp = [0] + [MAX] * amount\n",
    "\n",
    "    for i in range(1, amount + 1):\n",
    "        dp[i] = min([dp[i - c] if i - c >= 0 else MAX for c in coins]) + 1\n",
    "        print(dp)\n",
    "    return [dp[amount], -1][dp[amount] == MAX]"
   ]
  },
  {
   "cell_type": "code",
   "execution_count": 96,
   "metadata": {},
   "outputs": [
    {
     "name": "stdout",
     "output_type": "stream",
     "text": [
      "[0, 1, inf, inf, inf, inf, inf, inf, inf, inf, inf, inf]\n",
      "[0, 1, 1, inf, inf, inf, inf, inf, inf, inf, inf, inf]\n",
      "[0, 1, 1, 2, inf, inf, inf, inf, inf, inf, inf, inf]\n",
      "[0, 1, 1, 2, 2, inf, inf, inf, inf, inf, inf, inf]\n",
      "[0, 1, 1, 2, 2, 1, inf, inf, inf, inf, inf, inf]\n",
      "[0, 1, 1, 2, 2, 1, 2, inf, inf, inf, inf, inf]\n",
      "[0, 1, 1, 2, 2, 1, 2, 2, inf, inf, inf, inf]\n",
      "[0, 1, 1, 2, 2, 1, 2, 2, 3, inf, inf, inf]\n",
      "[0, 1, 1, 2, 2, 1, 2, 2, 3, 3, inf, inf]\n",
      "[0, 1, 1, 2, 2, 1, 2, 2, 3, 3, 2, inf]\n",
      "[0, 1, 1, 2, 2, 1, 2, 2, 3, 3, 2, 3]\n"
     ]
    },
    {
     "data": {
      "text/plain": [
       "3"
      ]
     },
     "execution_count": 96,
     "metadata": {},
     "output_type": "execute_result"
    }
   ],
   "source": [
    "coins = [1,2,5]\n",
    "amount = 11\n",
    "coinChange1(coins, amount)"
   ]
  },
  {
   "cell_type": "code",
   "execution_count": 102,
   "metadata": {},
   "outputs": [
    {
     "name": "stdout",
     "output_type": "stream",
     "text": [
      "[0, 1, inf, inf, inf, inf, inf, inf, inf, inf, inf, inf]\n",
      "[0, 1, 1, inf, inf, inf, inf, inf, inf, inf, inf, inf]\n",
      "[0, 1, 1, 2, inf, inf, inf, inf, inf, inf, inf, inf]\n",
      "[0, 1, 1, 2, 2, inf, inf, inf, inf, inf, inf, inf]\n",
      "[0, 1, 1, 2, 2, 1, inf, inf, inf, inf, inf, inf]\n",
      "[0, 1, 1, 2, 2, 1, 2, inf, inf, inf, inf, inf]\n",
      "[0, 1, 1, 2, 2, 1, 2, 2, inf, inf, inf, inf]\n",
      "[0, 1, 1, 2, 2, 1, 2, 2, 3, inf, inf, inf]\n",
      "[0, 1, 1, 2, 2, 1, 2, 2, 3, 3, inf, inf]\n",
      "[0, 1, 1, 2, 2, 1, 2, 2, 3, 3, 2, inf]\n",
      "[0, 1, 1, 2, 2, 1, 2, 2, 3, 3, 2, 3]\n"
     ]
    },
    {
     "data": {
      "text/plain": [
       "3"
      ]
     },
     "execution_count": 102,
     "metadata": {},
     "output_type": "execute_result"
    }
   ],
   "source": [
    "coinChange(coins, amount)"
   ]
  },
  {
   "cell_type": "code",
   "execution_count": null,
   "metadata": {},
   "outputs": [],
   "source": [
    "def coinChange(coins, amount):\n",
    "        dp=[amount+1]*(amount+1)\n",
    "        dp[0]=0 # for amount 0, cannot use coins to achieve the amount\n",
    "        for i in range(1,len(dp)): # iterate for the sub problem, i represents the amount\n",
    "            for j in coins:\n",
    "                if i>=j:\n",
    "                    dp[i]=min(dp[i],dp[i-j]+1) # if i choose coin j, i could use the amount minus the j to use previous best combination of coins\n",
    "                print(dp)\n",
    "        if dp[amount]==0:\n",
    "            return -1\n",
    "        else:\n",
    "            return dp[amount]"
   ]
  },
  {
   "cell_type": "code",
   "execution_count": null,
   "metadata": {},
   "outputs": [],
   "source": [
    "float(\"inf\")"
   ]
  },
  {
   "cell_type": "code",
   "execution_count": 67,
   "metadata": {},
   "outputs": [
    {
     "data": {
      "text/plain": [
       "[0, inf, inf, inf, inf, inf, inf, inf, inf, inf, inf, inf, inf]"
      ]
     },
     "execution_count": 67,
     "metadata": {},
     "output_type": "execute_result"
    }
   ],
   "source": [
    "[0] + [float('inf')] * 12"
   ]
  },
  {
   "cell_type": "code",
   "execution_count": 78,
   "metadata": {},
   "outputs": [
    {
     "data": {
      "text/plain": [
       "inf"
      ]
     },
     "execution_count": 78,
     "metadata": {},
     "output_type": "execute_result"
    }
   ],
   "source": [
    "inf=float('inf')\n",
    "dp=[inf]*(11+1)\n",
    "dp[2]"
   ]
  },
  {
   "cell_type": "code",
   "execution_count": null,
   "metadata": {},
   "outputs": [],
   "source": []
  }
 ],
 "metadata": {
  "kernelspec": {
   "display_name": "Python 3",
   "language": "python",
   "name": "python3"
  },
  "language_info": {
   "codemirror_mode": {
    "name": "ipython",
    "version": 3
   },
   "file_extension": ".py",
   "mimetype": "text/x-python",
   "name": "python",
   "nbconvert_exporter": "python",
   "pygments_lexer": "ipython3",
   "version": "3.6.5"
  }
 },
 "nbformat": 4,
 "nbformat_minor": 2
}
