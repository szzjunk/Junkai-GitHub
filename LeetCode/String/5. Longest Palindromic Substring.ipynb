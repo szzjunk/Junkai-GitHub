{
 "cells": [
  {
   "cell_type": "markdown",
   "metadata": {},
   "source": [
    "https://leetcode.com/problems/longest-palindromic-substring/"
   ]
  },
  {
   "cell_type": "code",
   "execution_count": 18,
   "metadata": {},
   "outputs": [],
   "source": [
    "def longestPalindrome(s):\n",
    "    def index_helper(s,l,h):\n",
    "        # s is string, l is lower index in the middle, h is the higher index in the middle\n",
    "        while l >= 0 and h < len(s) and s[l] == s[h]: # <len(x)   !!!!\n",
    "            l=l-1\n",
    "            h=h+1\n",
    "        return s[l+1:h]\n",
    "    \n",
    "    res=''\n",
    "    for i in range(len(s)):\n",
    "        # for odd case\n",
    "        tmp=index_helper(s,i,i)\n",
    "        if len(tmp)>len(res):\n",
    "            res=tmp\n",
    "        \n",
    "        # for even case\n",
    "        tmp=index_helper(s,i,i+1)\n",
    "        if len(tmp)>len(res):\n",
    "            res=tmp\n",
    "    return res"
   ]
  },
  {
   "cell_type": "code",
   "execution_count": 19,
   "metadata": {},
   "outputs": [
    {
     "data": {
      "text/plain": [
       "'bab'"
      ]
     },
     "execution_count": 19,
     "metadata": {},
     "output_type": "execute_result"
    }
   ],
   "source": [
    "s='babad'\n",
    "longestPalindrome(s)"
   ]
  }
 ],
 "metadata": {
  "kernelspec": {
   "display_name": "Python 3",
   "language": "python",
   "name": "python3"
  },
  "language_info": {
   "codemirror_mode": {
    "name": "ipython",
    "version": 3
   },
   "file_extension": ".py",
   "mimetype": "text/x-python",
   "name": "python",
   "nbconvert_exporter": "python",
   "pygments_lexer": "ipython3",
   "version": "3.6.5"
  }
 },
 "nbformat": 4,
 "nbformat_minor": 2
}
