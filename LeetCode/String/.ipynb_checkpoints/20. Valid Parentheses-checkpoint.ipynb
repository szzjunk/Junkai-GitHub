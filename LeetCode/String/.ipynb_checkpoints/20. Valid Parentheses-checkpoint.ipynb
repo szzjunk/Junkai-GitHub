{
 "cells": [
  {
   "cell_type": "markdown",
   "metadata": {},
   "source": [
    "https://leetcode.com/problems/valid-parentheses/"
   ]
  },
  {
   "cell_type": "code",
   "execution_count": 26,
   "metadata": {},
   "outputs": [],
   "source": [
    "def isValid(s):\n",
    "    dictic={')':'(',']':'[','}':'{'}\n",
    "    stack=[]\n",
    "    for char in s:\n",
    "        if char in dictic.values(): # check whether the char in the first half of parenthesis\n",
    "            stack.append(char) # if so, append the char into stack\n",
    "        elif char in dictic.keys():\n",
    "            if stack == [] or dictic[char] != stack.pop(): # otherwise, the char is the second half, if the stack is empty, return false; if using it as key the poped value is not the same, return false.\n",
    "                return False\n",
    "        else:\n",
    "            return False # handle the empty string\n",
    "    return stack == [] # remove all the items, it should return true."
   ]
  },
  {
   "cell_type": "code",
   "execution_count": 27,
   "metadata": {},
   "outputs": [
    {
     "data": {
      "text/plain": [
       "True"
      ]
     },
     "execution_count": 27,
     "metadata": {},
     "output_type": "execute_result"
    }
   ],
   "source": [
    "s=\"()\"\n",
    "isValid(s)"
   ]
  }
 ],
 "metadata": {
  "kernelspec": {
   "display_name": "Python 3",
   "language": "python",
   "name": "python3"
  },
  "language_info": {
   "codemirror_mode": {
    "name": "ipython",
    "version": 3
   },
   "file_extension": ".py",
   "mimetype": "text/x-python",
   "name": "python",
   "nbconvert_exporter": "python",
   "pygments_lexer": "ipython3",
   "version": "3.6.5"
  }
 },
 "nbformat": 4,
 "nbformat_minor": 2
}
